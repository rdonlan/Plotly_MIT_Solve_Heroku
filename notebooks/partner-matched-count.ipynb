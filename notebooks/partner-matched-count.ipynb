{
 "cells": [
  {
   "cell_type": "code",
   "execution_count": 1,
   "metadata": {},
   "outputs": [],
   "source": [
    "import pandas as pd \n",
    "import zebra\n",
    "import numpy as np\n",
    "\n",
    "data_source = \"../app/mock_input_data.xlsx\"\n",
    "\n",
    "partners_df = pd.read_excel(data_source, sheet_name=\"Partner Data\")\n",
    "solver_df = pd.read_excel(data_source, sheet_name=\"Solver Team Data\")\n"
   ]
  },
  {
   "cell_type": "code",
   "execution_count": 2,
   "metadata": {},
   "outputs": [],
   "source": [
    "\n",
    "num_partners = len(partners_df['Org'])\n",
    "partner_names = partners_df['Org'].values\n",
    "none_list = ['None' for x in range(0,num_partners)]\n",
    "count_list = [0 for x in range(0, num_partners)]\n",
    "partners_match_count = pd.DataFrame(data=[partner_names, none_list, count_list], index=['Partners', 'Solvers', 'Count']).T\n"
   ]
  },
  {
   "cell_type": "code",
   "execution_count": 19,
   "metadata": {},
   "outputs": [
    {
     "name": "stdout",
     "output_type": "stream",
     "text": [
      "['None', 'Air Ink']\n"
     ]
    },
    {
     "data": {
      "text/plain": [
       "1"
      ]
     },
     "execution_count": 19,
     "metadata": {},
     "output_type": "execute_result"
    }
   ],
   "source": [
    "new_solver= 'Air Ink'\n",
    "new_solver2 = 'Aira'\n",
    "partner = 'Danaher'\n",
    "\n",
    "def update_colval(df,add_term, row_val, col, col2): \n",
    "    col_indx = df[df[col] == row_val].index.values[0]\n",
    "    cell_val = df.at[col_indx, col2]\n",
    "    cell_val = cell_val.split(',')\n",
    "    print(cell_val)\n",
    "    if add_term in cell_val: \n",
    "        return  1\n",
    "    \n",
    "    else: \n",
    "        cell_val.append(add_term)\n",
    "        count_value = len(cell_val)-1 \n",
    "        cell_val = \",\".join(cell_val)\n",
    "        df.at[col_indx, col2] = cell_val\n",
    "        df.at[col_indx, 'Count'] =  count_value \n",
    "        return df, count_value\n",
    "\n",
    "\n",
    "    \n",
    "# partner_index = partners_match_count[partners_match_count['Partners'] == partner].index.values[0]\n",
    "# solver_value = partners_match_count.at[partner_index, 'Solvers']\n",
    "# solver_value.append(new_solver)\n",
    "# partners_match_count.at[partner_index, 'Solvers'] = solver_value \n",
    "\n",
    "update_colval(partners_match_count, new_solver, partner, \"Partners\", \"Solvers\")\n",
    "# update_colval(partners_match_count, new_solver2, partner, \"Partners\", \"Solvers\")\n",
    "# update_colval(partners_match_count, new_solver, partner, \"Partners\", \"Solvers\")\n",
    "check_solver(partners_match_count, partner, \"Air Ink\" )\n",
    "\n",
    "    \n",
    "# partners_match_count.at[row_indx, solver_col]"
   ]
  },
  {
   "cell_type": "code",
   "execution_count": 4,
   "metadata": {},
   "outputs": [
    {
     "data": {
      "text/plain": [
       "(                                             Partners Solvers Count\n",
       " 0                                  Aditya Birla Group    None     0\n",
       " 1                       BMW Foundation Herbert Quandt    None     0\n",
       " 2   Buenos Aires Innovation Park (City of Buenos A...    None     0\n",
       " 3                           C L Sandberg & Associates    None     0\n",
       " 4                                         Capital One    None     0\n",
       " 5                                       Classroom Inc    None     0\n",
       " 6                                     Corning Capital    None     0\n",
       " 7                                        Covestro LLC    None     0\n",
       " 8                                             Danaher    None     0\n",
       " 9                                DIGITAL CITIZEN FUND    None     0\n",
       " 10                  Draper Richards Kaplan Foundation    None     0\n",
       " 11                                         Fannie Mae    None     0\n",
       " 12                         Gary Community Investments    None     0\n",
       " 13                                      Grupo Salinas    None     0\n",
       " 14                   Heart Institute of the Caribbean    None     0\n",
       " 15                              Henkel (Charles Paul)    None     0\n",
       " 16                                             Henkel    None     0\n",
       " 17                                         IMPACT2030    None     0\n",
       " 18                                  Innovation Norway    None     0\n",
       " 19                                    Kevin Przybocki    None     0\n",
       " 20                                         KSF Impact    None     0\n",
       " 21                                          LLamasoft    None     0\n",
       " 22                               Mannin Research Inc.    None     0\n",
       " 23             Maria Cecilia Souto Vidigal Foundation    None     0\n",
       " 24                                            Miniwiz    None     0\n",
       " 25                                    MIT (Ken Zolot)    None     0\n",
       " 26  MIT Environmental Solutions Initative (John Fe...    None     0\n",
       " 27                       MIT Governance Lab (GOV/LAB)    None     0\n",
       " 28                      New Orleans Health Department    None     0\n",
       " 29                       Northrop Grumman Corporation    None     0\n",
       " 30                                  Putnam Associates    None     0\n",
       " 31                     Robert Wood Johnson Foundation    None     0\n",
       " 32                                  Save the Children    None     0\n",
       " 33                 Schmidt Marine Technology Partners    None     0\n",
       " 34                                              Sitra    None     0\n",
       " 35                              Terranova Corporation    None     0\n",
       " 36   The Kroger Co. Zero Hunger Zero Waste Foundation    None     0\n",
       " 37                     The Pershing Square Foundation    None     0\n",
       " 38                                               Uber    None     0\n",
       " 39                                        Yum! Brands    None     0,\n",
       " 0)"
      ]
     },
     "execution_count": 4,
     "metadata": {},
     "output_type": "execute_result"
    }
   ],
   "source": [
    "\n",
    "def delete_colval(df,delete_term, row_val, col, col2): \n",
    "    col_indx = df[df[col] == row_val].index.values[0]\n",
    "    cell_val = df.at[col_indx, col2]\n",
    "    cell_val = cell_val.split(',')\n",
    "    if delete_term in cell_val: \n",
    "        cell_val.remove(delete_term)\n",
    "        count_value = len(cell_val)-1 \n",
    "        cell_val = \",\".join(cell_val)\n",
    "        df.at[col_indx, col2] = cell_val\n",
    "        df.at[col_indx, 'Count'] =  count_value\n",
    "        return df, count_value\n",
    "\n",
    "    else: \n",
    "        return 0\n",
    "    \n",
    "    \n",
    "# delete_colval(partners_match_count, \"Aira\", partner, \"Partners\", \"Solvers\")\n",
    "delete_colval(partners_match_count, \"Air Ink\", partner, \"Partners\", \"Solvers\")\n"
   ]
  },
  {
   "cell_type": "code",
   "execution_count": null,
   "metadata": {},
   "outputs": [],
   "source": []
  },
  {
   "cell_type": "code",
   "execution_count": null,
   "metadata": {},
   "outputs": [],
   "source": []
  }
 ],
 "metadata": {
  "kernelspec": {
   "display_name": "Python 3",
   "language": "python",
   "name": "python3"
  },
  "language_info": {
   "codemirror_mode": {
    "name": "ipython",
    "version": 3
   },
   "file_extension": ".py",
   "mimetype": "text/x-python",
   "name": "python",
   "nbconvert_exporter": "python",
   "pygments_lexer": "ipython3",
   "version": "3.7.3"
  }
 },
 "nbformat": 4,
 "nbformat_minor": 4
}
