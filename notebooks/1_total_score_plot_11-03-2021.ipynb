{
 "cells": [
  {
   "cell_type": "code",
   "execution_count": 2,
   "id": "speaking-theory",
   "metadata": {},
   "outputs": [],
   "source": [
    "import pandas as pd\n",
    "import numpy as np\n",
    "import re\n",
    "import plotly.express as px \n"
   ]
  },
  {
   "cell_type": "code",
   "execution_count": 5,
   "id": "liable-chicago",
   "metadata": {},
   "outputs": [],
   "source": [
    "total_score_df = pd.read_csv(\"../app/total_score_intermediate.csv\")"
   ]
  },
  {
   "cell_type": "code",
   "execution_count": 6,
   "id": "rising-survival",
   "metadata": {},
   "outputs": [
    {
     "data": {
      "text/html": [
       "<div>\n",
       "<style scoped>\n",
       "    .dataframe tbody tr th:only-of-type {\n",
       "        vertical-align: middle;\n",
       "    }\n",
       "\n",
       "    .dataframe tbody tr th {\n",
       "        vertical-align: top;\n",
       "    }\n",
       "\n",
       "    .dataframe thead th {\n",
       "        text-align: right;\n",
       "    }\n",
       "</style>\n",
       "<table border=\"1\" class=\"dataframe\">\n",
       "  <thead>\n",
       "    <tr style=\"text-align: right;\">\n",
       "      <th></th>\n",
       "      <th>Unnamed: 0</th>\n",
       "      <th>Org_y</th>\n",
       "      <th>geo_score</th>\n",
       "      <th>needs_score</th>\n",
       "      <th>stage_score</th>\n",
       "      <th>challenge_score</th>\n",
       "      <th>tech_score</th>\n",
       "      <th>total_score</th>\n",
       "    </tr>\n",
       "  </thead>\n",
       "  <tbody>\n",
       "    <tr>\n",
       "      <th>0</th>\n",
       "      <td>18</td>\n",
       "      <td>Conduent</td>\n",
       "      <td>2</td>\n",
       "      <td>6</td>\n",
       "      <td>2</td>\n",
       "      <td>20</td>\n",
       "      <td>1</td>\n",
       "      <td>31</td>\n",
       "    </tr>\n",
       "    <tr>\n",
       "      <th>1</th>\n",
       "      <td>66</td>\n",
       "      <td>The Kamath Family Foundation</td>\n",
       "      <td>2</td>\n",
       "      <td>5</td>\n",
       "      <td>2</td>\n",
       "      <td>10</td>\n",
       "      <td>1</td>\n",
       "      <td>20</td>\n",
       "    </tr>\n",
       "    <tr>\n",
       "      <th>2</th>\n",
       "      <td>36</td>\n",
       "      <td>Kevin Przybocki</td>\n",
       "      <td>1</td>\n",
       "      <td>5</td>\n",
       "      <td>2</td>\n",
       "      <td>10</td>\n",
       "      <td>1</td>\n",
       "      <td>19</td>\n",
       "    </tr>\n",
       "    <tr>\n",
       "      <th>3</th>\n",
       "      <td>73</td>\n",
       "      <td>Usizo Advisory Solutions</td>\n",
       "      <td>1</td>\n",
       "      <td>5</td>\n",
       "      <td>1</td>\n",
       "      <td>10</td>\n",
       "      <td>1</td>\n",
       "      <td>18</td>\n",
       "    </tr>\n",
       "    <tr>\n",
       "      <th>4</th>\n",
       "      <td>26</td>\n",
       "      <td>Firefly Innovations</td>\n",
       "      <td>1</td>\n",
       "      <td>4</td>\n",
       "      <td>1</td>\n",
       "      <td>10</td>\n",
       "      <td>0</td>\n",
       "      <td>16</td>\n",
       "    </tr>\n",
       "    <tr>\n",
       "      <th>5</th>\n",
       "      <td>13</td>\n",
       "      <td>Clint Taylor</td>\n",
       "      <td>1</td>\n",
       "      <td>4</td>\n",
       "      <td>1</td>\n",
       "      <td>10</td>\n",
       "      <td>0</td>\n",
       "      <td>16</td>\n",
       "    </tr>\n",
       "    <tr>\n",
       "      <th>6</th>\n",
       "      <td>75</td>\n",
       "      <td>Xprize</td>\n",
       "      <td>1</td>\n",
       "      <td>4</td>\n",
       "      <td>1</td>\n",
       "      <td>10</td>\n",
       "      <td>0</td>\n",
       "      <td>16</td>\n",
       "    </tr>\n",
       "    <tr>\n",
       "      <th>7</th>\n",
       "      <td>53</td>\n",
       "      <td>Pfizer Inc.</td>\n",
       "      <td>1</td>\n",
       "      <td>4</td>\n",
       "      <td>1</td>\n",
       "      <td>10</td>\n",
       "      <td>0</td>\n",
       "      <td>16</td>\n",
       "    </tr>\n",
       "    <tr>\n",
       "      <th>8</th>\n",
       "      <td>43</td>\n",
       "      <td>Merck for Mothers</td>\n",
       "      <td>1</td>\n",
       "      <td>4</td>\n",
       "      <td>1</td>\n",
       "      <td>0</td>\n",
       "      <td>0</td>\n",
       "      <td>6</td>\n",
       "    </tr>\n",
       "    <tr>\n",
       "      <th>9</th>\n",
       "      <td>57</td>\n",
       "      <td>Seed Global Health</td>\n",
       "      <td>1</td>\n",
       "      <td>4</td>\n",
       "      <td>1</td>\n",
       "      <td>0</td>\n",
       "      <td>0</td>\n",
       "      <td>6</td>\n",
       "    </tr>\n",
       "    <tr>\n",
       "      <th>10</th>\n",
       "      <td>0</td>\n",
       "      <td>Access Afya</td>\n",
       "      <td>1</td>\n",
       "      <td>4</td>\n",
       "      <td>1</td>\n",
       "      <td>0</td>\n",
       "      <td>0</td>\n",
       "      <td>6</td>\n",
       "    </tr>\n",
       "    <tr>\n",
       "      <th>11</th>\n",
       "      <td>29</td>\n",
       "      <td>Global Fund to fight Aids, Tuberculosis and Ma...</td>\n",
       "      <td>1</td>\n",
       "      <td>4</td>\n",
       "      <td>1</td>\n",
       "      <td>0</td>\n",
       "      <td>0</td>\n",
       "      <td>6</td>\n",
       "    </tr>\n",
       "    <tr>\n",
       "      <th>12</th>\n",
       "      <td>14</td>\n",
       "      <td>Clorox</td>\n",
       "      <td>1</td>\n",
       "      <td>4</td>\n",
       "      <td>1</td>\n",
       "      <td>0</td>\n",
       "      <td>0</td>\n",
       "      <td>6</td>\n",
       "    </tr>\n",
       "    <tr>\n",
       "      <th>13</th>\n",
       "      <td>59</td>\n",
       "      <td>Soronko Solutions</td>\n",
       "      <td>1</td>\n",
       "      <td>4</td>\n",
       "      <td>1</td>\n",
       "      <td>0</td>\n",
       "      <td>0</td>\n",
       "      <td>6</td>\n",
       "    </tr>\n",
       "    <tr>\n",
       "      <th>14</th>\n",
       "      <td>69</td>\n",
       "      <td>Twilio.org</td>\n",
       "      <td>1</td>\n",
       "      <td>3</td>\n",
       "      <td>1</td>\n",
       "      <td>0</td>\n",
       "      <td>0</td>\n",
       "      <td>5</td>\n",
       "    </tr>\n",
       "    <tr>\n",
       "      <th>15</th>\n",
       "      <td>65</td>\n",
       "      <td>The Hague Business Agency</td>\n",
       "      <td>1</td>\n",
       "      <td>3</td>\n",
       "      <td>1</td>\n",
       "      <td>0</td>\n",
       "      <td>0</td>\n",
       "      <td>5</td>\n",
       "    </tr>\n",
       "    <tr>\n",
       "      <th>16</th>\n",
       "      <td>49</td>\n",
       "      <td>Nuvo</td>\n",
       "      <td>1</td>\n",
       "      <td>3</td>\n",
       "      <td>1</td>\n",
       "      <td>0</td>\n",
       "      <td>0</td>\n",
       "      <td>5</td>\n",
       "    </tr>\n",
       "    <tr>\n",
       "      <th>17</th>\n",
       "      <td>58</td>\n",
       "      <td>Someone Else's Child Foundation</td>\n",
       "      <td>1</td>\n",
       "      <td>3</td>\n",
       "      <td>1</td>\n",
       "      <td>0</td>\n",
       "      <td>0</td>\n",
       "      <td>5</td>\n",
       "    </tr>\n",
       "    <tr>\n",
       "      <th>18</th>\n",
       "      <td>55</td>\n",
       "      <td>RISE</td>\n",
       "      <td>1</td>\n",
       "      <td>3</td>\n",
       "      <td>1</td>\n",
       "      <td>0</td>\n",
       "      <td>0</td>\n",
       "      <td>5</td>\n",
       "    </tr>\n",
       "    <tr>\n",
       "      <th>19</th>\n",
       "      <td>44</td>\n",
       "      <td>Merian Ventures</td>\n",
       "      <td>1</td>\n",
       "      <td>3</td>\n",
       "      <td>1</td>\n",
       "      <td>0</td>\n",
       "      <td>0</td>\n",
       "      <td>5</td>\n",
       "    </tr>\n",
       "    <tr>\n",
       "      <th>20</th>\n",
       "      <td>4</td>\n",
       "      <td>Antropia ESSEC</td>\n",
       "      <td>1</td>\n",
       "      <td>3</td>\n",
       "      <td>1</td>\n",
       "      <td>0</td>\n",
       "      <td>0</td>\n",
       "      <td>5</td>\n",
       "    </tr>\n",
       "    <tr>\n",
       "      <th>21</th>\n",
       "      <td>11</td>\n",
       "      <td>Care 2 Communities</td>\n",
       "      <td>1</td>\n",
       "      <td>3</td>\n",
       "      <td>1</td>\n",
       "      <td>0</td>\n",
       "      <td>0</td>\n",
       "      <td>5</td>\n",
       "    </tr>\n",
       "    <tr>\n",
       "      <th>22</th>\n",
       "      <td>50</td>\n",
       "      <td>Olam International</td>\n",
       "      <td>1</td>\n",
       "      <td>3</td>\n",
       "      <td>1</td>\n",
       "      <td>0</td>\n",
       "      <td>0</td>\n",
       "      <td>5</td>\n",
       "    </tr>\n",
       "    <tr>\n",
       "      <th>23</th>\n",
       "      <td>21</td>\n",
       "      <td>Deshpande Foundation</td>\n",
       "      <td>1</td>\n",
       "      <td>3</td>\n",
       "      <td>1</td>\n",
       "      <td>0</td>\n",
       "      <td>0</td>\n",
       "      <td>5</td>\n",
       "    </tr>\n",
       "    <tr>\n",
       "      <th>24</th>\n",
       "      <td>5</td>\n",
       "      <td>AutoCognita</td>\n",
       "      <td>1</td>\n",
       "      <td>2</td>\n",
       "      <td>1</td>\n",
       "      <td>0</td>\n",
       "      <td>0</td>\n",
       "      <td>4</td>\n",
       "    </tr>\n",
       "    <tr>\n",
       "      <th>25</th>\n",
       "      <td>76</td>\n",
       "      <td>YUM Brands</td>\n",
       "      <td>1</td>\n",
       "      <td>2</td>\n",
       "      <td>1</td>\n",
       "      <td>0</td>\n",
       "      <td>0</td>\n",
       "      <td>4</td>\n",
       "    </tr>\n",
       "    <tr>\n",
       "      <th>26</th>\n",
       "      <td>8</td>\n",
       "      <td>Blue Haven Initiative</td>\n",
       "      <td>1</td>\n",
       "      <td>2</td>\n",
       "      <td>1</td>\n",
       "      <td>0</td>\n",
       "      <td>0</td>\n",
       "      <td>4</td>\n",
       "    </tr>\n",
       "    <tr>\n",
       "      <th>27</th>\n",
       "      <td>60</td>\n",
       "      <td>Sresta Natural Bioproducts Pvt Ltd</td>\n",
       "      <td>1</td>\n",
       "      <td>2</td>\n",
       "      <td>1</td>\n",
       "      <td>0</td>\n",
       "      <td>0</td>\n",
       "      <td>4</td>\n",
       "    </tr>\n",
       "    <tr>\n",
       "      <th>28</th>\n",
       "      <td>40</td>\n",
       "      <td>Llamasoft</td>\n",
       "      <td>1</td>\n",
       "      <td>2</td>\n",
       "      <td>1</td>\n",
       "      <td>0</td>\n",
       "      <td>0</td>\n",
       "      <td>4</td>\n",
       "    </tr>\n",
       "    <tr>\n",
       "      <th>29</th>\n",
       "      <td>70</td>\n",
       "      <td>UN Women</td>\n",
       "      <td>1</td>\n",
       "      <td>2</td>\n",
       "      <td>1</td>\n",
       "      <td>0</td>\n",
       "      <td>0</td>\n",
       "      <td>4</td>\n",
       "    </tr>\n",
       "    <tr>\n",
       "      <th>30</th>\n",
       "      <td>16</td>\n",
       "      <td>Comcast NBCUniversal</td>\n",
       "      <td>1</td>\n",
       "      <td>2</td>\n",
       "      <td>1</td>\n",
       "      <td>0</td>\n",
       "      <td>0</td>\n",
       "      <td>4</td>\n",
       "    </tr>\n",
       "    <tr>\n",
       "      <th>31</th>\n",
       "      <td>24</td>\n",
       "      <td>EcoAdvisors</td>\n",
       "      <td>1</td>\n",
       "      <td>2</td>\n",
       "      <td>1</td>\n",
       "      <td>0</td>\n",
       "      <td>0</td>\n",
       "      <td>4</td>\n",
       "    </tr>\n",
       "    <tr>\n",
       "      <th>32</th>\n",
       "      <td>72</td>\n",
       "      <td>Ultranauts Inc</td>\n",
       "      <td>1</td>\n",
       "      <td>2</td>\n",
       "      <td>1</td>\n",
       "      <td>0</td>\n",
       "      <td>0</td>\n",
       "      <td>4</td>\n",
       "    </tr>\n",
       "    <tr>\n",
       "      <th>33</th>\n",
       "      <td>3</td>\n",
       "      <td>Americares</td>\n",
       "      <td>1</td>\n",
       "      <td>2</td>\n",
       "      <td>1</td>\n",
       "      <td>0</td>\n",
       "      <td>0</td>\n",
       "      <td>4</td>\n",
       "    </tr>\n",
       "    <tr>\n",
       "      <th>34</th>\n",
       "      <td>12</td>\n",
       "      <td>Cast Collective</td>\n",
       "      <td>1</td>\n",
       "      <td>2</td>\n",
       "      <td>1</td>\n",
       "      <td>0</td>\n",
       "      <td>0</td>\n",
       "      <td>4</td>\n",
       "    </tr>\n",
       "    <tr>\n",
       "      <th>35</th>\n",
       "      <td>15</td>\n",
       "      <td>Closed Loop Partners</td>\n",
       "      <td>1</td>\n",
       "      <td>2</td>\n",
       "      <td>1</td>\n",
       "      <td>0</td>\n",
       "      <td>0</td>\n",
       "      <td>4</td>\n",
       "    </tr>\n",
       "    <tr>\n",
       "      <th>36</th>\n",
       "      <td>2</td>\n",
       "      <td>American Student Assistance (ASA)</td>\n",
       "      <td>1</td>\n",
       "      <td>2</td>\n",
       "      <td>1</td>\n",
       "      <td>0</td>\n",
       "      <td>0</td>\n",
       "      <td>4</td>\n",
       "    </tr>\n",
       "    <tr>\n",
       "      <th>37</th>\n",
       "      <td>7</td>\n",
       "      <td>Best Buy</td>\n",
       "      <td>1</td>\n",
       "      <td>2</td>\n",
       "      <td>1</td>\n",
       "      <td>0</td>\n",
       "      <td>0</td>\n",
       "      <td>4</td>\n",
       "    </tr>\n",
       "    <tr>\n",
       "      <th>38</th>\n",
       "      <td>35</td>\n",
       "      <td>KSF Impact</td>\n",
       "      <td>1</td>\n",
       "      <td>2</td>\n",
       "      <td>1</td>\n",
       "      <td>0</td>\n",
       "      <td>0</td>\n",
       "      <td>4</td>\n",
       "    </tr>\n",
       "    <tr>\n",
       "      <th>39</th>\n",
       "      <td>45</td>\n",
       "      <td>Mondi Group</td>\n",
       "      <td>1</td>\n",
       "      <td>2</td>\n",
       "      <td>1</td>\n",
       "      <td>0</td>\n",
       "      <td>0</td>\n",
       "      <td>4</td>\n",
       "    </tr>\n",
       "    <tr>\n",
       "      <th>40</th>\n",
       "      <td>71</td>\n",
       "      <td>Uber</td>\n",
       "      <td>1</td>\n",
       "      <td>2</td>\n",
       "      <td>1</td>\n",
       "      <td>0</td>\n",
       "      <td>0</td>\n",
       "      <td>4</td>\n",
       "    </tr>\n",
       "    <tr>\n",
       "      <th>41</th>\n",
       "      <td>56</td>\n",
       "      <td>Save the Children</td>\n",
       "      <td>1</td>\n",
       "      <td>2</td>\n",
       "      <td>1</td>\n",
       "      <td>0</td>\n",
       "      <td>0</td>\n",
       "      <td>4</td>\n",
       "    </tr>\n",
       "    <tr>\n",
       "      <th>42</th>\n",
       "      <td>64</td>\n",
       "      <td>Tecnológico de Monterrey</td>\n",
       "      <td>1</td>\n",
       "      <td>2</td>\n",
       "      <td>1</td>\n",
       "      <td>0</td>\n",
       "      <td>0</td>\n",
       "      <td>4</td>\n",
       "    </tr>\n",
       "    <tr>\n",
       "      <th>43</th>\n",
       "      <td>68</td>\n",
       "      <td>The Pershing Square Foundation</td>\n",
       "      <td>1</td>\n",
       "      <td>2</td>\n",
       "      <td>1</td>\n",
       "      <td>0</td>\n",
       "      <td>0</td>\n",
       "      <td>4</td>\n",
       "    </tr>\n",
       "    <tr>\n",
       "      <th>44</th>\n",
       "      <td>74</td>\n",
       "      <td>Women’s WorldWide Web (W4)</td>\n",
       "      <td>1</td>\n",
       "      <td>2</td>\n",
       "      <td>1</td>\n",
       "      <td>0</td>\n",
       "      <td>0</td>\n",
       "      <td>4</td>\n",
       "    </tr>\n",
       "    <tr>\n",
       "      <th>45</th>\n",
       "      <td>77</td>\n",
       "      <td>eBay</td>\n",
       "      <td>1</td>\n",
       "      <td>2</td>\n",
       "      <td>1</td>\n",
       "      <td>0</td>\n",
       "      <td>0</td>\n",
       "      <td>4</td>\n",
       "    </tr>\n",
       "    <tr>\n",
       "      <th>46</th>\n",
       "      <td>6</td>\n",
       "      <td>BMW Foundation Herbert Quandt</td>\n",
       "      <td>1</td>\n",
       "      <td>2</td>\n",
       "      <td>1</td>\n",
       "      <td>0</td>\n",
       "      <td>0</td>\n",
       "      <td>4</td>\n",
       "    </tr>\n",
       "    <tr>\n",
       "      <th>47</th>\n",
       "      <td>20</td>\n",
       "      <td>Danaher</td>\n",
       "      <td>1</td>\n",
       "      <td>2</td>\n",
       "      <td>1</td>\n",
       "      <td>0</td>\n",
       "      <td>0</td>\n",
       "      <td>4</td>\n",
       "    </tr>\n",
       "    <tr>\n",
       "      <th>48</th>\n",
       "      <td>22</td>\n",
       "      <td>Dubai Cares</td>\n",
       "      <td>1</td>\n",
       "      <td>2</td>\n",
       "      <td>1</td>\n",
       "      <td>0</td>\n",
       "      <td>0</td>\n",
       "      <td>4</td>\n",
       "    </tr>\n",
       "    <tr>\n",
       "      <th>49</th>\n",
       "      <td>25</td>\n",
       "      <td>Enel Foundation and Strategic Studies Center</td>\n",
       "      <td>1</td>\n",
       "      <td>2</td>\n",
       "      <td>1</td>\n",
       "      <td>0</td>\n",
       "      <td>0</td>\n",
       "      <td>4</td>\n",
       "    </tr>\n",
       "  </tbody>\n",
       "</table>\n",
       "</div>"
      ],
      "text/plain": [
       "    Unnamed: 0                                              Org_y  geo_score  \\\n",
       "0           18                                           Conduent          2   \n",
       "1           66                       The Kamath Family Foundation          2   \n",
       "2           36                                    Kevin Przybocki          1   \n",
       "3           73                           Usizo Advisory Solutions          1   \n",
       "4           26                                Firefly Innovations          1   \n",
       "5           13                                       Clint Taylor          1   \n",
       "6           75                                             Xprize          1   \n",
       "7           53                                        Pfizer Inc.          1   \n",
       "8           43                                  Merck for Mothers          1   \n",
       "9           57                                 Seed Global Health          1   \n",
       "10           0                                        Access Afya          1   \n",
       "11          29  Global Fund to fight Aids, Tuberculosis and Ma...          1   \n",
       "12          14                                             Clorox          1   \n",
       "13          59                                  Soronko Solutions          1   \n",
       "14          69                                         Twilio.org          1   \n",
       "15          65                          The Hague Business Agency          1   \n",
       "16          49                                               Nuvo          1   \n",
       "17          58                    Someone Else's Child Foundation          1   \n",
       "18          55                                               RISE          1   \n",
       "19          44                                    Merian Ventures          1   \n",
       "20           4                                     Antropia ESSEC          1   \n",
       "21          11                                 Care 2 Communities          1   \n",
       "22          50                                 Olam International          1   \n",
       "23          21                               Deshpande Foundation          1   \n",
       "24           5                                        AutoCognita          1   \n",
       "25          76                                         YUM Brands          1   \n",
       "26           8                              Blue Haven Initiative          1   \n",
       "27          60                 Sresta Natural Bioproducts Pvt Ltd          1   \n",
       "28          40                                          Llamasoft          1   \n",
       "29          70                                           UN Women          1   \n",
       "30          16                               Comcast NBCUniversal          1   \n",
       "31          24                                        EcoAdvisors          1   \n",
       "32          72                                     Ultranauts Inc          1   \n",
       "33           3                                         Americares          1   \n",
       "34          12                                    Cast Collective          1   \n",
       "35          15                               Closed Loop Partners          1   \n",
       "36           2                  American Student Assistance (ASA)          1   \n",
       "37           7                                           Best Buy          1   \n",
       "38          35                                         KSF Impact          1   \n",
       "39          45                                        Mondi Group          1   \n",
       "40          71                                               Uber          1   \n",
       "41          56                                  Save the Children          1   \n",
       "42          64                           Tecnológico de Monterrey          1   \n",
       "43          68                     The Pershing Square Foundation          1   \n",
       "44          74                         Women’s WorldWide Web (W4)          1   \n",
       "45          77                                               eBay          1   \n",
       "46           6                      BMW Foundation Herbert Quandt          1   \n",
       "47          20                                            Danaher          1   \n",
       "48          22                                        Dubai Cares          1   \n",
       "49          25       Enel Foundation and Strategic Studies Center          1   \n",
       "\n",
       "    needs_score  stage_score  challenge_score  tech_score  total_score  \n",
       "0             6            2               20           1           31  \n",
       "1             5            2               10           1           20  \n",
       "2             5            2               10           1           19  \n",
       "3             5            1               10           1           18  \n",
       "4             4            1               10           0           16  \n",
       "5             4            1               10           0           16  \n",
       "6             4            1               10           0           16  \n",
       "7             4            1               10           0           16  \n",
       "8             4            1                0           0            6  \n",
       "9             4            1                0           0            6  \n",
       "10            4            1                0           0            6  \n",
       "11            4            1                0           0            6  \n",
       "12            4            1                0           0            6  \n",
       "13            4            1                0           0            6  \n",
       "14            3            1                0           0            5  \n",
       "15            3            1                0           0            5  \n",
       "16            3            1                0           0            5  \n",
       "17            3            1                0           0            5  \n",
       "18            3            1                0           0            5  \n",
       "19            3            1                0           0            5  \n",
       "20            3            1                0           0            5  \n",
       "21            3            1                0           0            5  \n",
       "22            3            1                0           0            5  \n",
       "23            3            1                0           0            5  \n",
       "24            2            1                0           0            4  \n",
       "25            2            1                0           0            4  \n",
       "26            2            1                0           0            4  \n",
       "27            2            1                0           0            4  \n",
       "28            2            1                0           0            4  \n",
       "29            2            1                0           0            4  \n",
       "30            2            1                0           0            4  \n",
       "31            2            1                0           0            4  \n",
       "32            2            1                0           0            4  \n",
       "33            2            1                0           0            4  \n",
       "34            2            1                0           0            4  \n",
       "35            2            1                0           0            4  \n",
       "36            2            1                0           0            4  \n",
       "37            2            1                0           0            4  \n",
       "38            2            1                0           0            4  \n",
       "39            2            1                0           0            4  \n",
       "40            2            1                0           0            4  \n",
       "41            2            1                0           0            4  \n",
       "42            2            1                0           0            4  \n",
       "43            2            1                0           0            4  \n",
       "44            2            1                0           0            4  \n",
       "45            2            1                0           0            4  \n",
       "46            2            1                0           0            4  \n",
       "47            2            1                0           0            4  \n",
       "48            2            1                0           0            4  \n",
       "49            2            1                0           0            4  "
      ]
     },
     "execution_count": 6,
     "metadata": {},
     "output_type": "execute_result"
    }
   ],
   "source": [
    "total_score_df"
   ]
  },
  {
   "cell_type": "code",
   "execution_count": 12,
   "id": "reasonable-cooperation",
   "metadata": {},
   "outputs": [
    {
     "data": {
      "application/vnd.plotly.v1+json": {
       "config": {
        "plotlyServerURL": "https://plot.ly"
       },
       "data": [
        {
         "alignmentgroup": "True",
         "customdata": [
          [
           31
          ],
          [
           20
          ],
          [
           19
          ],
          [
           18
          ],
          [
           16
          ],
          [
           16
          ],
          [
           16
          ],
          [
           16
          ],
          [
           6
          ],
          [
           6
          ],
          [
           6
          ],
          [
           6
          ],
          [
           6
          ],
          [
           6
          ],
          [
           5
          ],
          [
           5
          ],
          [
           5
          ],
          [
           5
          ],
          [
           5
          ],
          [
           5
          ],
          [
           5
          ],
          [
           5
          ],
          [
           5
          ],
          [
           5
          ],
          [
           4
          ],
          [
           4
          ],
          [
           4
          ],
          [
           4
          ],
          [
           4
          ],
          [
           4
          ],
          [
           4
          ],
          [
           4
          ],
          [
           4
          ],
          [
           4
          ],
          [
           4
          ],
          [
           4
          ],
          [
           4
          ],
          [
           4
          ],
          [
           4
          ],
          [
           4
          ],
          [
           4
          ],
          [
           4
          ],
          [
           4
          ],
          [
           4
          ],
          [
           4
          ],
          [
           4
          ],
          [
           4
          ],
          [
           4
          ],
          [
           4
          ],
          [
           4
          ]
         ],
         "hovertemplate": "variable=geo_score<br>value=%{x}<br>PARTNER=%{y}<br>total_score=%{customdata[0]}<extra></extra>",
         "legendgroup": "geo_score",
         "marker": {
          "color": "#636efa"
         },
         "name": "geo_score",
         "offsetgroup": "geo_score",
         "orientation": "h",
         "showlegend": true,
         "textposition": "auto",
         "type": "bar",
         "x": [
          2,
          2,
          1,
          1,
          1,
          1,
          1,
          1,
          1,
          1,
          1,
          1,
          1,
          1,
          1,
          1,
          1,
          1,
          1,
          1,
          1,
          1,
          1,
          1,
          1,
          1,
          1,
          1,
          1,
          1,
          1,
          1,
          1,
          1,
          1,
          1,
          1,
          1,
          1,
          1,
          1,
          1,
          1,
          1,
          1,
          1,
          1,
          1,
          1,
          1
         ],
         "xaxis": "x",
         "y": [
          "Conduent",
          "The Kamath Family Foundation",
          "Kevin Przybocki",
          "Usizo Advisory Solutions",
          "Firefly Innovations",
          "Clint Taylor",
          "Xprize",
          "Pfizer Inc.",
          "Merck for Mothers",
          "Seed Global Health",
          "Access Afya",
          "Global Fund to fight Aids, Tuberculosis and Malaria",
          "Clorox",
          "Soronko Solutions",
          "Twilio.org",
          "The Hague Business Agency",
          "Nuvo",
          "Someone Else's Child Foundation",
          "RISE",
          "Merian Ventures",
          "Antropia ESSEC",
          "Care 2 Communities",
          "Olam International",
          "Deshpande Foundation",
          "AutoCognita",
          "YUM Brands",
          "Blue Haven Initiative",
          "Sresta Natural Bioproducts Pvt Ltd",
          "Llamasoft",
          "UN Women",
          "Comcast NBCUniversal",
          "EcoAdvisors",
          "Ultranauts Inc",
          "Americares",
          "Cast Collective",
          "Closed Loop Partners",
          "American Student Assistance (ASA)",
          "Best Buy",
          "KSF Impact",
          "Mondi Group",
          "Uber",
          "Save the Children",
          "Tecnológico de Monterrey",
          "The Pershing Square Foundation",
          "Women’s WorldWide Web (W4)",
          "eBay",
          "BMW Foundation Herbert Quandt",
          "Danaher",
          "Dubai Cares",
          "Enel Foundation and Strategic Studies Center"
         ],
         "yaxis": "y"
        },
        {
         "alignmentgroup": "True",
         "customdata": [
          [
           31
          ],
          [
           20
          ],
          [
           19
          ],
          [
           18
          ],
          [
           16
          ],
          [
           16
          ],
          [
           16
          ],
          [
           16
          ],
          [
           6
          ],
          [
           6
          ],
          [
           6
          ],
          [
           6
          ],
          [
           6
          ],
          [
           6
          ],
          [
           5
          ],
          [
           5
          ],
          [
           5
          ],
          [
           5
          ],
          [
           5
          ],
          [
           5
          ],
          [
           5
          ],
          [
           5
          ],
          [
           5
          ],
          [
           5
          ],
          [
           4
          ],
          [
           4
          ],
          [
           4
          ],
          [
           4
          ],
          [
           4
          ],
          [
           4
          ],
          [
           4
          ],
          [
           4
          ],
          [
           4
          ],
          [
           4
          ],
          [
           4
          ],
          [
           4
          ],
          [
           4
          ],
          [
           4
          ],
          [
           4
          ],
          [
           4
          ],
          [
           4
          ],
          [
           4
          ],
          [
           4
          ],
          [
           4
          ],
          [
           4
          ],
          [
           4
          ],
          [
           4
          ],
          [
           4
          ],
          [
           4
          ],
          [
           4
          ]
         ],
         "hovertemplate": "variable=needs_score<br>value=%{x}<br>PARTNER=%{y}<br>total_score=%{customdata[0]}<extra></extra>",
         "legendgroup": "needs_score",
         "marker": {
          "color": "#EF553B"
         },
         "name": "needs_score",
         "offsetgroup": "needs_score",
         "orientation": "h",
         "showlegend": true,
         "textposition": "auto",
         "type": "bar",
         "x": [
          6,
          5,
          5,
          5,
          4,
          4,
          4,
          4,
          4,
          4,
          4,
          4,
          4,
          4,
          3,
          3,
          3,
          3,
          3,
          3,
          3,
          3,
          3,
          3,
          2,
          2,
          2,
          2,
          2,
          2,
          2,
          2,
          2,
          2,
          2,
          2,
          2,
          2,
          2,
          2,
          2,
          2,
          2,
          2,
          2,
          2,
          2,
          2,
          2,
          2
         ],
         "xaxis": "x",
         "y": [
          "Conduent",
          "The Kamath Family Foundation",
          "Kevin Przybocki",
          "Usizo Advisory Solutions",
          "Firefly Innovations",
          "Clint Taylor",
          "Xprize",
          "Pfizer Inc.",
          "Merck for Mothers",
          "Seed Global Health",
          "Access Afya",
          "Global Fund to fight Aids, Tuberculosis and Malaria",
          "Clorox",
          "Soronko Solutions",
          "Twilio.org",
          "The Hague Business Agency",
          "Nuvo",
          "Someone Else's Child Foundation",
          "RISE",
          "Merian Ventures",
          "Antropia ESSEC",
          "Care 2 Communities",
          "Olam International",
          "Deshpande Foundation",
          "AutoCognita",
          "YUM Brands",
          "Blue Haven Initiative",
          "Sresta Natural Bioproducts Pvt Ltd",
          "Llamasoft",
          "UN Women",
          "Comcast NBCUniversal",
          "EcoAdvisors",
          "Ultranauts Inc",
          "Americares",
          "Cast Collective",
          "Closed Loop Partners",
          "American Student Assistance (ASA)",
          "Best Buy",
          "KSF Impact",
          "Mondi Group",
          "Uber",
          "Save the Children",
          "Tecnológico de Monterrey",
          "The Pershing Square Foundation",
          "Women’s WorldWide Web (W4)",
          "eBay",
          "BMW Foundation Herbert Quandt",
          "Danaher",
          "Dubai Cares",
          "Enel Foundation and Strategic Studies Center"
         ],
         "yaxis": "y"
        },
        {
         "alignmentgroup": "True",
         "customdata": [
          [
           31
          ],
          [
           20
          ],
          [
           19
          ],
          [
           18
          ],
          [
           16
          ],
          [
           16
          ],
          [
           16
          ],
          [
           16
          ],
          [
           6
          ],
          [
           6
          ],
          [
           6
          ],
          [
           6
          ],
          [
           6
          ],
          [
           6
          ],
          [
           5
          ],
          [
           5
          ],
          [
           5
          ],
          [
           5
          ],
          [
           5
          ],
          [
           5
          ],
          [
           5
          ],
          [
           5
          ],
          [
           5
          ],
          [
           5
          ],
          [
           4
          ],
          [
           4
          ],
          [
           4
          ],
          [
           4
          ],
          [
           4
          ],
          [
           4
          ],
          [
           4
          ],
          [
           4
          ],
          [
           4
          ],
          [
           4
          ],
          [
           4
          ],
          [
           4
          ],
          [
           4
          ],
          [
           4
          ],
          [
           4
          ],
          [
           4
          ],
          [
           4
          ],
          [
           4
          ],
          [
           4
          ],
          [
           4
          ],
          [
           4
          ],
          [
           4
          ],
          [
           4
          ],
          [
           4
          ],
          [
           4
          ],
          [
           4
          ]
         ],
         "hovertemplate": "variable=stage_score<br>value=%{x}<br>PARTNER=%{y}<br>total_score=%{customdata[0]}<extra></extra>",
         "legendgroup": "stage_score",
         "marker": {
          "color": "#00cc96"
         },
         "name": "stage_score",
         "offsetgroup": "stage_score",
         "orientation": "h",
         "showlegend": true,
         "textposition": "auto",
         "type": "bar",
         "x": [
          2,
          2,
          2,
          1,
          1,
          1,
          1,
          1,
          1,
          1,
          1,
          1,
          1,
          1,
          1,
          1,
          1,
          1,
          1,
          1,
          1,
          1,
          1,
          1,
          1,
          1,
          1,
          1,
          1,
          1,
          1,
          1,
          1,
          1,
          1,
          1,
          1,
          1,
          1,
          1,
          1,
          1,
          1,
          1,
          1,
          1,
          1,
          1,
          1,
          1
         ],
         "xaxis": "x",
         "y": [
          "Conduent",
          "The Kamath Family Foundation",
          "Kevin Przybocki",
          "Usizo Advisory Solutions",
          "Firefly Innovations",
          "Clint Taylor",
          "Xprize",
          "Pfizer Inc.",
          "Merck for Mothers",
          "Seed Global Health",
          "Access Afya",
          "Global Fund to fight Aids, Tuberculosis and Malaria",
          "Clorox",
          "Soronko Solutions",
          "Twilio.org",
          "The Hague Business Agency",
          "Nuvo",
          "Someone Else's Child Foundation",
          "RISE",
          "Merian Ventures",
          "Antropia ESSEC",
          "Care 2 Communities",
          "Olam International",
          "Deshpande Foundation",
          "AutoCognita",
          "YUM Brands",
          "Blue Haven Initiative",
          "Sresta Natural Bioproducts Pvt Ltd",
          "Llamasoft",
          "UN Women",
          "Comcast NBCUniversal",
          "EcoAdvisors",
          "Ultranauts Inc",
          "Americares",
          "Cast Collective",
          "Closed Loop Partners",
          "American Student Assistance (ASA)",
          "Best Buy",
          "KSF Impact",
          "Mondi Group",
          "Uber",
          "Save the Children",
          "Tecnológico de Monterrey",
          "The Pershing Square Foundation",
          "Women’s WorldWide Web (W4)",
          "eBay",
          "BMW Foundation Herbert Quandt",
          "Danaher",
          "Dubai Cares",
          "Enel Foundation and Strategic Studies Center"
         ],
         "yaxis": "y"
        },
        {
         "alignmentgroup": "True",
         "customdata": [
          [
           31
          ],
          [
           20
          ],
          [
           19
          ],
          [
           18
          ],
          [
           16
          ],
          [
           16
          ],
          [
           16
          ],
          [
           16
          ],
          [
           6
          ],
          [
           6
          ],
          [
           6
          ],
          [
           6
          ],
          [
           6
          ],
          [
           6
          ],
          [
           5
          ],
          [
           5
          ],
          [
           5
          ],
          [
           5
          ],
          [
           5
          ],
          [
           5
          ],
          [
           5
          ],
          [
           5
          ],
          [
           5
          ],
          [
           5
          ],
          [
           4
          ],
          [
           4
          ],
          [
           4
          ],
          [
           4
          ],
          [
           4
          ],
          [
           4
          ],
          [
           4
          ],
          [
           4
          ],
          [
           4
          ],
          [
           4
          ],
          [
           4
          ],
          [
           4
          ],
          [
           4
          ],
          [
           4
          ],
          [
           4
          ],
          [
           4
          ],
          [
           4
          ],
          [
           4
          ],
          [
           4
          ],
          [
           4
          ],
          [
           4
          ],
          [
           4
          ],
          [
           4
          ],
          [
           4
          ],
          [
           4
          ],
          [
           4
          ]
         ],
         "hovertemplate": "variable=challenge_score<br>value=%{x}<br>PARTNER=%{y}<br>total_score=%{customdata[0]}<extra></extra>",
         "legendgroup": "challenge_score",
         "marker": {
          "color": "#ab63fa"
         },
         "name": "challenge_score",
         "offsetgroup": "challenge_score",
         "orientation": "h",
         "showlegend": true,
         "textposition": "auto",
         "type": "bar",
         "x": [
          20,
          10,
          10,
          10,
          10,
          10,
          10,
          10,
          0,
          0,
          0,
          0,
          0,
          0,
          0,
          0,
          0,
          0,
          0,
          0,
          0,
          0,
          0,
          0,
          0,
          0,
          0,
          0,
          0,
          0,
          0,
          0,
          0,
          0,
          0,
          0,
          0,
          0,
          0,
          0,
          0,
          0,
          0,
          0,
          0,
          0,
          0,
          0,
          0,
          0
         ],
         "xaxis": "x",
         "y": [
          "Conduent",
          "The Kamath Family Foundation",
          "Kevin Przybocki",
          "Usizo Advisory Solutions",
          "Firefly Innovations",
          "Clint Taylor",
          "Xprize",
          "Pfizer Inc.",
          "Merck for Mothers",
          "Seed Global Health",
          "Access Afya",
          "Global Fund to fight Aids, Tuberculosis and Malaria",
          "Clorox",
          "Soronko Solutions",
          "Twilio.org",
          "The Hague Business Agency",
          "Nuvo",
          "Someone Else's Child Foundation",
          "RISE",
          "Merian Ventures",
          "Antropia ESSEC",
          "Care 2 Communities",
          "Olam International",
          "Deshpande Foundation",
          "AutoCognita",
          "YUM Brands",
          "Blue Haven Initiative",
          "Sresta Natural Bioproducts Pvt Ltd",
          "Llamasoft",
          "UN Women",
          "Comcast NBCUniversal",
          "EcoAdvisors",
          "Ultranauts Inc",
          "Americares",
          "Cast Collective",
          "Closed Loop Partners",
          "American Student Assistance (ASA)",
          "Best Buy",
          "KSF Impact",
          "Mondi Group",
          "Uber",
          "Save the Children",
          "Tecnológico de Monterrey",
          "The Pershing Square Foundation",
          "Women’s WorldWide Web (W4)",
          "eBay",
          "BMW Foundation Herbert Quandt",
          "Danaher",
          "Dubai Cares",
          "Enel Foundation and Strategic Studies Center"
         ],
         "yaxis": "y"
        },
        {
         "alignmentgroup": "True",
         "customdata": [
          [
           31
          ],
          [
           20
          ],
          [
           19
          ],
          [
           18
          ],
          [
           16
          ],
          [
           16
          ],
          [
           16
          ],
          [
           16
          ],
          [
           6
          ],
          [
           6
          ],
          [
           6
          ],
          [
           6
          ],
          [
           6
          ],
          [
           6
          ],
          [
           5
          ],
          [
           5
          ],
          [
           5
          ],
          [
           5
          ],
          [
           5
          ],
          [
           5
          ],
          [
           5
          ],
          [
           5
          ],
          [
           5
          ],
          [
           5
          ],
          [
           4
          ],
          [
           4
          ],
          [
           4
          ],
          [
           4
          ],
          [
           4
          ],
          [
           4
          ],
          [
           4
          ],
          [
           4
          ],
          [
           4
          ],
          [
           4
          ],
          [
           4
          ],
          [
           4
          ],
          [
           4
          ],
          [
           4
          ],
          [
           4
          ],
          [
           4
          ],
          [
           4
          ],
          [
           4
          ],
          [
           4
          ],
          [
           4
          ],
          [
           4
          ],
          [
           4
          ],
          [
           4
          ],
          [
           4
          ],
          [
           4
          ],
          [
           4
          ]
         ],
         "hovertemplate": "variable=tech_score<br>value=%{x}<br>PARTNER=%{y}<br>total_score=%{customdata[0]}<extra></extra>",
         "legendgroup": "tech_score",
         "marker": {
          "color": "#FFA15A"
         },
         "name": "tech_score",
         "offsetgroup": "tech_score",
         "orientation": "h",
         "showlegend": true,
         "textposition": "auto",
         "type": "bar",
         "x": [
          1,
          1,
          1,
          1,
          0,
          0,
          0,
          0,
          0,
          0,
          0,
          0,
          0,
          0,
          0,
          0,
          0,
          0,
          0,
          0,
          0,
          0,
          0,
          0,
          0,
          0,
          0,
          0,
          0,
          0,
          0,
          0,
          0,
          0,
          0,
          0,
          0,
          0,
          0,
          0,
          0,
          0,
          0,
          0,
          0,
          0,
          0,
          0,
          0,
          0
         ],
         "xaxis": "x",
         "y": [
          "Conduent",
          "The Kamath Family Foundation",
          "Kevin Przybocki",
          "Usizo Advisory Solutions",
          "Firefly Innovations",
          "Clint Taylor",
          "Xprize",
          "Pfizer Inc.",
          "Merck for Mothers",
          "Seed Global Health",
          "Access Afya",
          "Global Fund to fight Aids, Tuberculosis and Malaria",
          "Clorox",
          "Soronko Solutions",
          "Twilio.org",
          "The Hague Business Agency",
          "Nuvo",
          "Someone Else's Child Foundation",
          "RISE",
          "Merian Ventures",
          "Antropia ESSEC",
          "Care 2 Communities",
          "Olam International",
          "Deshpande Foundation",
          "AutoCognita",
          "YUM Brands",
          "Blue Haven Initiative",
          "Sresta Natural Bioproducts Pvt Ltd",
          "Llamasoft",
          "UN Women",
          "Comcast NBCUniversal",
          "EcoAdvisors",
          "Ultranauts Inc",
          "Americares",
          "Cast Collective",
          "Closed Loop Partners",
          "American Student Assistance (ASA)",
          "Best Buy",
          "KSF Impact",
          "Mondi Group",
          "Uber",
          "Save the Children",
          "Tecnológico de Monterrey",
          "The Pershing Square Foundation",
          "Women’s WorldWide Web (W4)",
          "eBay",
          "BMW Foundation Herbert Quandt",
          "Danaher",
          "Dubai Cares",
          "Enel Foundation and Strategic Studies Center"
         ],
         "yaxis": "y"
        }
       ],
       "layout": {
        "autosize": true,
        "barmode": "relative",
        "legend": {
         "title": {
          "text": "variable"
         },
         "tracegroupgap": 0
        },
        "template": {
         "data": {
          "bar": [
           {
            "error_x": {
             "color": "#2a3f5f"
            },
            "error_y": {
             "color": "#2a3f5f"
            },
            "marker": {
             "line": {
              "color": "#E5ECF6",
              "width": 0.5
             }
            },
            "type": "bar"
           }
          ],
          "barpolar": [
           {
            "marker": {
             "line": {
              "color": "#E5ECF6",
              "width": 0.5
             }
            },
            "type": "barpolar"
           }
          ],
          "carpet": [
           {
            "aaxis": {
             "endlinecolor": "#2a3f5f",
             "gridcolor": "white",
             "linecolor": "white",
             "minorgridcolor": "white",
             "startlinecolor": "#2a3f5f"
            },
            "baxis": {
             "endlinecolor": "#2a3f5f",
             "gridcolor": "white",
             "linecolor": "white",
             "minorgridcolor": "white",
             "startlinecolor": "#2a3f5f"
            },
            "type": "carpet"
           }
          ],
          "choropleth": [
           {
            "colorbar": {
             "outlinewidth": 0,
             "ticks": ""
            },
            "type": "choropleth"
           }
          ],
          "contour": [
           {
            "colorbar": {
             "outlinewidth": 0,
             "ticks": ""
            },
            "colorscale": [
             [
              0,
              "#0d0887"
             ],
             [
              0.1111111111111111,
              "#46039f"
             ],
             [
              0.2222222222222222,
              "#7201a8"
             ],
             [
              0.3333333333333333,
              "#9c179e"
             ],
             [
              0.4444444444444444,
              "#bd3786"
             ],
             [
              0.5555555555555556,
              "#d8576b"
             ],
             [
              0.6666666666666666,
              "#ed7953"
             ],
             [
              0.7777777777777778,
              "#fb9f3a"
             ],
             [
              0.8888888888888888,
              "#fdca26"
             ],
             [
              1,
              "#f0f921"
             ]
            ],
            "type": "contour"
           }
          ],
          "contourcarpet": [
           {
            "colorbar": {
             "outlinewidth": 0,
             "ticks": ""
            },
            "type": "contourcarpet"
           }
          ],
          "heatmap": [
           {
            "colorbar": {
             "outlinewidth": 0,
             "ticks": ""
            },
            "colorscale": [
             [
              0,
              "#0d0887"
             ],
             [
              0.1111111111111111,
              "#46039f"
             ],
             [
              0.2222222222222222,
              "#7201a8"
             ],
             [
              0.3333333333333333,
              "#9c179e"
             ],
             [
              0.4444444444444444,
              "#bd3786"
             ],
             [
              0.5555555555555556,
              "#d8576b"
             ],
             [
              0.6666666666666666,
              "#ed7953"
             ],
             [
              0.7777777777777778,
              "#fb9f3a"
             ],
             [
              0.8888888888888888,
              "#fdca26"
             ],
             [
              1,
              "#f0f921"
             ]
            ],
            "type": "heatmap"
           }
          ],
          "heatmapgl": [
           {
            "colorbar": {
             "outlinewidth": 0,
             "ticks": ""
            },
            "colorscale": [
             [
              0,
              "#0d0887"
             ],
             [
              0.1111111111111111,
              "#46039f"
             ],
             [
              0.2222222222222222,
              "#7201a8"
             ],
             [
              0.3333333333333333,
              "#9c179e"
             ],
             [
              0.4444444444444444,
              "#bd3786"
             ],
             [
              0.5555555555555556,
              "#d8576b"
             ],
             [
              0.6666666666666666,
              "#ed7953"
             ],
             [
              0.7777777777777778,
              "#fb9f3a"
             ],
             [
              0.8888888888888888,
              "#fdca26"
             ],
             [
              1,
              "#f0f921"
             ]
            ],
            "type": "heatmapgl"
           }
          ],
          "histogram": [
           {
            "marker": {
             "colorbar": {
              "outlinewidth": 0,
              "ticks": ""
             }
            },
            "type": "histogram"
           }
          ],
          "histogram2d": [
           {
            "colorbar": {
             "outlinewidth": 0,
             "ticks": ""
            },
            "colorscale": [
             [
              0,
              "#0d0887"
             ],
             [
              0.1111111111111111,
              "#46039f"
             ],
             [
              0.2222222222222222,
              "#7201a8"
             ],
             [
              0.3333333333333333,
              "#9c179e"
             ],
             [
              0.4444444444444444,
              "#bd3786"
             ],
             [
              0.5555555555555556,
              "#d8576b"
             ],
             [
              0.6666666666666666,
              "#ed7953"
             ],
             [
              0.7777777777777778,
              "#fb9f3a"
             ],
             [
              0.8888888888888888,
              "#fdca26"
             ],
             [
              1,
              "#f0f921"
             ]
            ],
            "type": "histogram2d"
           }
          ],
          "histogram2dcontour": [
           {
            "colorbar": {
             "outlinewidth": 0,
             "ticks": ""
            },
            "colorscale": [
             [
              0,
              "#0d0887"
             ],
             [
              0.1111111111111111,
              "#46039f"
             ],
             [
              0.2222222222222222,
              "#7201a8"
             ],
             [
              0.3333333333333333,
              "#9c179e"
             ],
             [
              0.4444444444444444,
              "#bd3786"
             ],
             [
              0.5555555555555556,
              "#d8576b"
             ],
             [
              0.6666666666666666,
              "#ed7953"
             ],
             [
              0.7777777777777778,
              "#fb9f3a"
             ],
             [
              0.8888888888888888,
              "#fdca26"
             ],
             [
              1,
              "#f0f921"
             ]
            ],
            "type": "histogram2dcontour"
           }
          ],
          "mesh3d": [
           {
            "colorbar": {
             "outlinewidth": 0,
             "ticks": ""
            },
            "type": "mesh3d"
           }
          ],
          "parcoords": [
           {
            "line": {
             "colorbar": {
              "outlinewidth": 0,
              "ticks": ""
             }
            },
            "type": "parcoords"
           }
          ],
          "pie": [
           {
            "automargin": true,
            "type": "pie"
           }
          ],
          "scatter": [
           {
            "marker": {
             "colorbar": {
              "outlinewidth": 0,
              "ticks": ""
             }
            },
            "type": "scatter"
           }
          ],
          "scatter3d": [
           {
            "line": {
             "colorbar": {
              "outlinewidth": 0,
              "ticks": ""
             }
            },
            "marker": {
             "colorbar": {
              "outlinewidth": 0,
              "ticks": ""
             }
            },
            "type": "scatter3d"
           }
          ],
          "scattercarpet": [
           {
            "marker": {
             "colorbar": {
              "outlinewidth": 0,
              "ticks": ""
             }
            },
            "type": "scattercarpet"
           }
          ],
          "scattergeo": [
           {
            "marker": {
             "colorbar": {
              "outlinewidth": 0,
              "ticks": ""
             }
            },
            "type": "scattergeo"
           }
          ],
          "scattergl": [
           {
            "marker": {
             "colorbar": {
              "outlinewidth": 0,
              "ticks": ""
             }
            },
            "type": "scattergl"
           }
          ],
          "scattermapbox": [
           {
            "marker": {
             "colorbar": {
              "outlinewidth": 0,
              "ticks": ""
             }
            },
            "type": "scattermapbox"
           }
          ],
          "scatterpolar": [
           {
            "marker": {
             "colorbar": {
              "outlinewidth": 0,
              "ticks": ""
             }
            },
            "type": "scatterpolar"
           }
          ],
          "scatterpolargl": [
           {
            "marker": {
             "colorbar": {
              "outlinewidth": 0,
              "ticks": ""
             }
            },
            "type": "scatterpolargl"
           }
          ],
          "scatterternary": [
           {
            "marker": {
             "colorbar": {
              "outlinewidth": 0,
              "ticks": ""
             }
            },
            "type": "scatterternary"
           }
          ],
          "surface": [
           {
            "colorbar": {
             "outlinewidth": 0,
             "ticks": ""
            },
            "colorscale": [
             [
              0,
              "#0d0887"
             ],
             [
              0.1111111111111111,
              "#46039f"
             ],
             [
              0.2222222222222222,
              "#7201a8"
             ],
             [
              0.3333333333333333,
              "#9c179e"
             ],
             [
              0.4444444444444444,
              "#bd3786"
             ],
             [
              0.5555555555555556,
              "#d8576b"
             ],
             [
              0.6666666666666666,
              "#ed7953"
             ],
             [
              0.7777777777777778,
              "#fb9f3a"
             ],
             [
              0.8888888888888888,
              "#fdca26"
             ],
             [
              1,
              "#f0f921"
             ]
            ],
            "type": "surface"
           }
          ],
          "table": [
           {
            "cells": {
             "fill": {
              "color": "#EBF0F8"
             },
             "line": {
              "color": "white"
             }
            },
            "header": {
             "fill": {
              "color": "#C8D4E3"
             },
             "line": {
              "color": "white"
             }
            },
            "type": "table"
           }
          ]
         },
         "layout": {
          "annotationdefaults": {
           "arrowcolor": "#2a3f5f",
           "arrowhead": 0,
           "arrowwidth": 1
          },
          "coloraxis": {
           "colorbar": {
            "outlinewidth": 0,
            "ticks": ""
           }
          },
          "colorscale": {
           "diverging": [
            [
             0,
             "#8e0152"
            ],
            [
             0.1,
             "#c51b7d"
            ],
            [
             0.2,
             "#de77ae"
            ],
            [
             0.3,
             "#f1b6da"
            ],
            [
             0.4,
             "#fde0ef"
            ],
            [
             0.5,
             "#f7f7f7"
            ],
            [
             0.6,
             "#e6f5d0"
            ],
            [
             0.7,
             "#b8e186"
            ],
            [
             0.8,
             "#7fbc41"
            ],
            [
             0.9,
             "#4d9221"
            ],
            [
             1,
             "#276419"
            ]
           ],
           "sequential": [
            [
             0,
             "#0d0887"
            ],
            [
             0.1111111111111111,
             "#46039f"
            ],
            [
             0.2222222222222222,
             "#7201a8"
            ],
            [
             0.3333333333333333,
             "#9c179e"
            ],
            [
             0.4444444444444444,
             "#bd3786"
            ],
            [
             0.5555555555555556,
             "#d8576b"
            ],
            [
             0.6666666666666666,
             "#ed7953"
            ],
            [
             0.7777777777777778,
             "#fb9f3a"
            ],
            [
             0.8888888888888888,
             "#fdca26"
            ],
            [
             1,
             "#f0f921"
            ]
           ],
           "sequentialminus": [
            [
             0,
             "#0d0887"
            ],
            [
             0.1111111111111111,
             "#46039f"
            ],
            [
             0.2222222222222222,
             "#7201a8"
            ],
            [
             0.3333333333333333,
             "#9c179e"
            ],
            [
             0.4444444444444444,
             "#bd3786"
            ],
            [
             0.5555555555555556,
             "#d8576b"
            ],
            [
             0.6666666666666666,
             "#ed7953"
            ],
            [
             0.7777777777777778,
             "#fb9f3a"
            ],
            [
             0.8888888888888888,
             "#fdca26"
            ],
            [
             1,
             "#f0f921"
            ]
           ]
          },
          "colorway": [
           "#636efa",
           "#EF553B",
           "#00cc96",
           "#ab63fa",
           "#FFA15A",
           "#19d3f3",
           "#FF6692",
           "#B6E880",
           "#FF97FF",
           "#FECB52"
          ],
          "font": {
           "color": "#2a3f5f"
          },
          "geo": {
           "bgcolor": "white",
           "lakecolor": "white",
           "landcolor": "#E5ECF6",
           "showlakes": true,
           "showland": true,
           "subunitcolor": "white"
          },
          "hoverlabel": {
           "align": "left"
          },
          "hovermode": "closest",
          "mapbox": {
           "style": "light"
          },
          "paper_bgcolor": "white",
          "plot_bgcolor": "#E5ECF6",
          "polar": {
           "angularaxis": {
            "gridcolor": "white",
            "linecolor": "white",
            "ticks": ""
           },
           "bgcolor": "#E5ECF6",
           "radialaxis": {
            "gridcolor": "white",
            "linecolor": "white",
            "ticks": ""
           }
          },
          "scene": {
           "xaxis": {
            "backgroundcolor": "#E5ECF6",
            "gridcolor": "white",
            "gridwidth": 2,
            "linecolor": "white",
            "showbackground": true,
            "ticks": "",
            "zerolinecolor": "white"
           },
           "yaxis": {
            "backgroundcolor": "#E5ECF6",
            "gridcolor": "white",
            "gridwidth": 2,
            "linecolor": "white",
            "showbackground": true,
            "ticks": "",
            "zerolinecolor": "white"
           },
           "zaxis": {
            "backgroundcolor": "#E5ECF6",
            "gridcolor": "white",
            "gridwidth": 2,
            "linecolor": "white",
            "showbackground": true,
            "ticks": "",
            "zerolinecolor": "white"
           }
          },
          "shapedefaults": {
           "line": {
            "color": "#2a3f5f"
           }
          },
          "ternary": {
           "aaxis": {
            "gridcolor": "white",
            "linecolor": "white",
            "ticks": ""
           },
           "baxis": {
            "gridcolor": "white",
            "linecolor": "white",
            "ticks": ""
           },
           "bgcolor": "#E5ECF6",
           "caxis": {
            "gridcolor": "white",
            "linecolor": "white",
            "ticks": ""
           }
          },
          "title": {
           "x": 0.05
          },
          "xaxis": {
           "automargin": true,
           "gridcolor": "white",
           "linecolor": "white",
           "ticks": "",
           "title": {
            "standoff": 15
           },
           "zerolinecolor": "white",
           "zerolinewidth": 2
          },
          "yaxis": {
           "automargin": true,
           "gridcolor": "white",
           "linecolor": "white",
           "ticks": "",
           "title": {
            "standoff": 15
           },
           "zerolinecolor": "white",
           "zerolinewidth": 2
          }
         }
        },
        "title": {
         "text": "Output graph for test"
        },
        "xaxis": {
         "anchor": "y",
         "autorange": true,
         "categoryorder": "total ascending",
         "domain": [
          0,
          1
         ],
         "range": [
          0,
          32.631578947368425
         ],
         "title": {
          "text": "value"
         },
         "type": "linear"
        },
        "yaxis": {
         "anchor": "x",
         "autorange": true,
         "categoryorder": "total ascending",
         "domain": [
          0,
          1
         ],
         "dtick": 1,
         "range": [
          -0.5,
          49.5
         ],
         "title": {
          "text": "PARTNER"
         },
         "type": "category"
        }
       }
      },
      "image/png": "[encoded data removed]",
      "text/html": [
       "<div>\n",
       "        \n",
       "        \n",
       "            <div id=\"3a4ee289-02c6-4d1a-a188-dc4f446b0e11\" class=\"plotly-graph-div\" style=\"height:1200px; width:100%;\"></div>\n",
       "            <script type=\"text/javascript\">\n",
       "                require([\"plotly\"], function(Plotly) {\n",
       "                    window.PLOTLYENV=window.PLOTLYENV || {};\n",
       "                    \n",
       "                if (document.getElementById(\"3a4ee289-02c6-4d1a-a188-dc4f446b0e11\")) {\n",
       "                    Plotly.newPlot(\n",
       "                        '3a4ee289-02c6-4d1a-a188-dc4f446b0e11',\n",
       "                        [{\"alignmentgroup\": \"True\", \"customdata\": [[31], [20], [19], [18], [16], [16], [16], [16], [6], [6], [6], [6], [6], [6], [5], [5], [5], [5], [5], [5], [5], [5], [5], [5], [4], [4], [4], [4], [4], [4], [4], [4], [4], [4], [4], [4], [4], [4], [4], [4], [4], [4], [4], [4], [4], [4], [4], [4], [4], [4]], \"hovertemplate\": \"variable=geo_score<br>value=%{x}<br>PARTNER=%{y}<br>total_score=%{customdata[0]}<extra></extra>\", \"legendgroup\": \"geo_score\", \"marker\": {\"color\": \"#636efa\"}, \"name\": \"geo_score\", \"offsetgroup\": \"geo_score\", \"orientation\": \"h\", \"showlegend\": true, \"textposition\": \"auto\", \"type\": \"bar\", \"x\": [2, 2, 1, 1, 1, 1, 1, 1, 1, 1, 1, 1, 1, 1, 1, 1, 1, 1, 1, 1, 1, 1, 1, 1, 1, 1, 1, 1, 1, 1, 1, 1, 1, 1, 1, 1, 1, 1, 1, 1, 1, 1, 1, 1, 1, 1, 1, 1, 1, 1], \"xaxis\": \"x\", \"y\": [\"Conduent\", \"The Kamath Family Foundation\", \"Kevin Przybocki\", \"Usizo Advisory Solutions\", \"Firefly Innovations\", \"Clint Taylor\", \"Xprize\", \"Pfizer Inc.\", \"Merck for Mothers\", \"Seed Global Health\", \"Access Afya\", \"Global Fund to fight Aids, Tuberculosis and Malaria\", \"Clorox\", \"Soronko Solutions\", \"Twilio.org\", \"The Hague Business Agency\", \"Nuvo\", \"Someone Else's Child Foundation\", \"RISE\", \"Merian Ventures\", \"Antropia ESSEC\", \"Care 2 Communities\", \"Olam International\", \"Deshpande Foundation\", \"AutoCognita\", \"YUM Brands\", \"Blue Haven Initiative\", \"Sresta Natural Bioproducts Pvt Ltd\", \"Llamasoft\", \"UN Women\", \"Comcast NBCUniversal\", \"EcoAdvisors\", \"Ultranauts Inc\", \"Americares\", \"Cast Collective\", \"Closed Loop Partners\", \"American Student Assistance (ASA)\", \"Best Buy\", \"KSF Impact\", \"Mondi Group\", \"Uber\", \"Save the Children\", \"Tecnol\\u00f3gico de Monterrey\", \"The Pershing Square Foundation\", \"Women\\u2019s WorldWide Web (W4)\", \"eBay\", \"BMW Foundation Herbert Quandt\", \"Danaher\", \"Dubai Cares\", \"Enel Foundation and Strategic Studies Center\"], \"yaxis\": \"y\"}, {\"alignmentgroup\": \"True\", \"customdata\": [[31], [20], [19], [18], [16], [16], [16], [16], [6], [6], [6], [6], [6], [6], [5], [5], [5], [5], [5], [5], [5], [5], [5], [5], [4], [4], [4], [4], [4], [4], [4], [4], [4], [4], [4], [4], [4], [4], [4], [4], [4], [4], [4], [4], [4], [4], [4], [4], [4], [4]], \"hovertemplate\": \"variable=needs_score<br>value=%{x}<br>PARTNER=%{y}<br>total_score=%{customdata[0]}<extra></extra>\", \"legendgroup\": \"needs_score\", \"marker\": {\"color\": \"#EF553B\"}, \"name\": \"needs_score\", \"offsetgroup\": \"needs_score\", \"orientation\": \"h\", \"showlegend\": true, \"textposition\": \"auto\", \"type\": \"bar\", \"x\": [6, 5, 5, 5, 4, 4, 4, 4, 4, 4, 4, 4, 4, 4, 3, 3, 3, 3, 3, 3, 3, 3, 3, 3, 2, 2, 2, 2, 2, 2, 2, 2, 2, 2, 2, 2, 2, 2, 2, 2, 2, 2, 2, 2, 2, 2, 2, 2, 2, 2], \"xaxis\": \"x\", \"y\": [\"Conduent\", \"The Kamath Family Foundation\", \"Kevin Przybocki\", \"Usizo Advisory Solutions\", \"Firefly Innovations\", \"Clint Taylor\", \"Xprize\", \"Pfizer Inc.\", \"Merck for Mothers\", \"Seed Global Health\", \"Access Afya\", \"Global Fund to fight Aids, Tuberculosis and Malaria\", \"Clorox\", \"Soronko Solutions\", \"Twilio.org\", \"The Hague Business Agency\", \"Nuvo\", \"Someone Else's Child Foundation\", \"RISE\", \"Merian Ventures\", \"Antropia ESSEC\", \"Care 2 Communities\", \"Olam International\", \"Deshpande Foundation\", \"AutoCognita\", \"YUM Brands\", \"Blue Haven Initiative\", \"Sresta Natural Bioproducts Pvt Ltd\", \"Llamasoft\", \"UN Women\", \"Comcast NBCUniversal\", \"EcoAdvisors\", \"Ultranauts Inc\", \"Americares\", \"Cast Collective\", \"Closed Loop Partners\", \"American Student Assistance (ASA)\", \"Best Buy\", \"KSF Impact\", \"Mondi Group\", \"Uber\", \"Save the Children\", \"Tecnol\\u00f3gico de Monterrey\", \"The Pershing Square Foundation\", \"Women\\u2019s WorldWide Web (W4)\", \"eBay\", \"BMW Foundation Herbert Quandt\", \"Danaher\", \"Dubai Cares\", \"Enel Foundation and Strategic Studies Center\"], \"yaxis\": \"y\"}, {\"alignmentgroup\": \"True\", \"customdata\": [[31], [20], [19], [18], [16], [16], [16], [16], [6], [6], [6], [6], [6], [6], [5], [5], [5], [5], [5], [5], [5], [5], [5], [5], [4], [4], [4], [4], [4], [4], [4], [4], [4], [4], [4], [4], [4], [4], [4], [4], [4], [4], [4], [4], [4], [4], [4], [4], [4], [4]], \"hovertemplate\": \"variable=stage_score<br>value=%{x}<br>PARTNER=%{y}<br>total_score=%{customdata[0]}<extra></extra>\", \"legendgroup\": \"stage_score\", \"marker\": {\"color\": \"#00cc96\"}, \"name\": \"stage_score\", \"offsetgroup\": \"stage_score\", \"orientation\": \"h\", \"showlegend\": true, \"textposition\": \"auto\", \"type\": \"bar\", \"x\": [2, 2, 2, 1, 1, 1, 1, 1, 1, 1, 1, 1, 1, 1, 1, 1, 1, 1, 1, 1, 1, 1, 1, 1, 1, 1, 1, 1, 1, 1, 1, 1, 1, 1, 1, 1, 1, 1, 1, 1, 1, 1, 1, 1, 1, 1, 1, 1, 1, 1], \"xaxis\": \"x\", \"y\": [\"Conduent\", \"The Kamath Family Foundation\", \"Kevin Przybocki\", \"Usizo Advisory Solutions\", \"Firefly Innovations\", \"Clint Taylor\", \"Xprize\", \"Pfizer Inc.\", \"Merck for Mothers\", \"Seed Global Health\", \"Access Afya\", \"Global Fund to fight Aids, Tuberculosis and Malaria\", \"Clorox\", \"Soronko Solutions\", \"Twilio.org\", \"The Hague Business Agency\", \"Nuvo\", \"Someone Else's Child Foundation\", \"RISE\", \"Merian Ventures\", \"Antropia ESSEC\", \"Care 2 Communities\", \"Olam International\", \"Deshpande Foundation\", \"AutoCognita\", \"YUM Brands\", \"Blue Haven Initiative\", \"Sresta Natural Bioproducts Pvt Ltd\", \"Llamasoft\", \"UN Women\", \"Comcast NBCUniversal\", \"EcoAdvisors\", \"Ultranauts Inc\", \"Americares\", \"Cast Collective\", \"Closed Loop Partners\", \"American Student Assistance (ASA)\", \"Best Buy\", \"KSF Impact\", \"Mondi Group\", \"Uber\", \"Save the Children\", \"Tecnol\\u00f3gico de Monterrey\", \"The Pershing Square Foundation\", \"Women\\u2019s WorldWide Web (W4)\", \"eBay\", \"BMW Foundation Herbert Quandt\", \"Danaher\", \"Dubai Cares\", \"Enel Foundation and Strategic Studies Center\"], \"yaxis\": \"y\"}, {\"alignmentgroup\": \"True\", \"customdata\": [[31], [20], [19], [18], [16], [16], [16], [16], [6], [6], [6], [6], [6], [6], [5], [5], [5], [5], [5], [5], [5], [5], [5], [5], [4], [4], [4], [4], [4], [4], [4], [4], [4], [4], [4], [4], [4], [4], [4], [4], [4], [4], [4], [4], [4], [4], [4], [4], [4], [4]], \"hovertemplate\": \"variable=challenge_score<br>value=%{x}<br>PARTNER=%{y}<br>total_score=%{customdata[0]}<extra></extra>\", \"legendgroup\": \"challenge_score\", \"marker\": {\"color\": \"#ab63fa\"}, \"name\": \"challenge_score\", \"offsetgroup\": \"challenge_score\", \"orientation\": \"h\", \"showlegend\": true, \"textposition\": \"auto\", \"type\": \"bar\", \"x\": [20, 10, 10, 10, 10, 10, 10, 10, 0, 0, 0, 0, 0, 0, 0, 0, 0, 0, 0, 0, 0, 0, 0, 0, 0, 0, 0, 0, 0, 0, 0, 0, 0, 0, 0, 0, 0, 0, 0, 0, 0, 0, 0, 0, 0, 0, 0, 0, 0, 0], \"xaxis\": \"x\", \"y\": [\"Conduent\", \"The Kamath Family Foundation\", \"Kevin Przybocki\", \"Usizo Advisory Solutions\", \"Firefly Innovations\", \"Clint Taylor\", \"Xprize\", \"Pfizer Inc.\", \"Merck for Mothers\", \"Seed Global Health\", \"Access Afya\", \"Global Fund to fight Aids, Tuberculosis and Malaria\", \"Clorox\", \"Soronko Solutions\", \"Twilio.org\", \"The Hague Business Agency\", \"Nuvo\", \"Someone Else's Child Foundation\", \"RISE\", \"Merian Ventures\", \"Antropia ESSEC\", \"Care 2 Communities\", \"Olam International\", \"Deshpande Foundation\", \"AutoCognita\", \"YUM Brands\", \"Blue Haven Initiative\", \"Sresta Natural Bioproducts Pvt Ltd\", \"Llamasoft\", \"UN Women\", \"Comcast NBCUniversal\", \"EcoAdvisors\", \"Ultranauts Inc\", \"Americares\", \"Cast Collective\", \"Closed Loop Partners\", \"American Student Assistance (ASA)\", \"Best Buy\", \"KSF Impact\", \"Mondi Group\", \"Uber\", \"Save the Children\", \"Tecnol\\u00f3gico de Monterrey\", \"The Pershing Square Foundation\", \"Women\\u2019s WorldWide Web (W4)\", \"eBay\", \"BMW Foundation Herbert Quandt\", \"Danaher\", \"Dubai Cares\", \"Enel Foundation and Strategic Studies Center\"], \"yaxis\": \"y\"}, {\"alignmentgroup\": \"True\", \"customdata\": [[31], [20], [19], [18], [16], [16], [16], [16], [6], [6], [6], [6], [6], [6], [5], [5], [5], [5], [5], [5], [5], [5], [5], [5], [4], [4], [4], [4], [4], [4], [4], [4], [4], [4], [4], [4], [4], [4], [4], [4], [4], [4], [4], [4], [4], [4], [4], [4], [4], [4]], \"hovertemplate\": \"variable=tech_score<br>value=%{x}<br>PARTNER=%{y}<br>total_score=%{customdata[0]}<extra></extra>\", \"legendgroup\": \"tech_score\", \"marker\": {\"color\": \"#FFA15A\"}, \"name\": \"tech_score\", \"offsetgroup\": \"tech_score\", \"orientation\": \"h\", \"showlegend\": true, \"textposition\": \"auto\", \"type\": \"bar\", \"x\": [1, 1, 1, 1, 0, 0, 0, 0, 0, 0, 0, 0, 0, 0, 0, 0, 0, 0, 0, 0, 0, 0, 0, 0, 0, 0, 0, 0, 0, 0, 0, 0, 0, 0, 0, 0, 0, 0, 0, 0, 0, 0, 0, 0, 0, 0, 0, 0, 0, 0], \"xaxis\": \"x\", \"y\": [\"Conduent\", \"The Kamath Family Foundation\", \"Kevin Przybocki\", \"Usizo Advisory Solutions\", \"Firefly Innovations\", \"Clint Taylor\", \"Xprize\", \"Pfizer Inc.\", \"Merck for Mothers\", \"Seed Global Health\", \"Access Afya\", \"Global Fund to fight Aids, Tuberculosis and Malaria\", \"Clorox\", \"Soronko Solutions\", \"Twilio.org\", \"The Hague Business Agency\", \"Nuvo\", \"Someone Else's Child Foundation\", \"RISE\", \"Merian Ventures\", \"Antropia ESSEC\", \"Care 2 Communities\", \"Olam International\", \"Deshpande Foundation\", \"AutoCognita\", \"YUM Brands\", \"Blue Haven Initiative\", \"Sresta Natural Bioproducts Pvt Ltd\", \"Llamasoft\", \"UN Women\", \"Comcast NBCUniversal\", \"EcoAdvisors\", \"Ultranauts Inc\", \"Americares\", \"Cast Collective\", \"Closed Loop Partners\", \"American Student Assistance (ASA)\", \"Best Buy\", \"KSF Impact\", \"Mondi Group\", \"Uber\", \"Save the Children\", \"Tecnol\\u00f3gico de Monterrey\", \"The Pershing Square Foundation\", \"Women\\u2019s WorldWide Web (W4)\", \"eBay\", \"BMW Foundation Herbert Quandt\", \"Danaher\", \"Dubai Cares\", \"Enel Foundation and Strategic Studies Center\"], \"yaxis\": \"y\"}],\n",
       "                        {\"barmode\": \"relative\", \"height\": 1200, \"legend\": {\"title\": {\"text\": \"variable\"}, \"tracegroupgap\": 0}, \"template\": {\"data\": {\"bar\": [{\"error_x\": {\"color\": \"#2a3f5f\"}, \"error_y\": {\"color\": \"#2a3f5f\"}, \"marker\": {\"line\": {\"color\": \"#E5ECF6\", \"width\": 0.5}}, \"type\": \"bar\"}], \"barpolar\": [{\"marker\": {\"line\": {\"color\": \"#E5ECF6\", \"width\": 0.5}}, \"type\": \"barpolar\"}], \"carpet\": [{\"aaxis\": {\"endlinecolor\": \"#2a3f5f\", \"gridcolor\": \"white\", \"linecolor\": \"white\", \"minorgridcolor\": \"white\", \"startlinecolor\": \"#2a3f5f\"}, \"baxis\": {\"endlinecolor\": \"#2a3f5f\", \"gridcolor\": \"white\", \"linecolor\": \"white\", \"minorgridcolor\": \"white\", \"startlinecolor\": \"#2a3f5f\"}, \"type\": \"carpet\"}], \"choropleth\": [{\"colorbar\": {\"outlinewidth\": 0, \"ticks\": \"\"}, \"type\": \"choropleth\"}], \"contour\": [{\"colorbar\": {\"outlinewidth\": 0, \"ticks\": \"\"}, \"colorscale\": [[0.0, \"#0d0887\"], [0.1111111111111111, \"#46039f\"], [0.2222222222222222, \"#7201a8\"], [0.3333333333333333, \"#9c179e\"], [0.4444444444444444, \"#bd3786\"], [0.5555555555555556, \"#d8576b\"], [0.6666666666666666, \"#ed7953\"], [0.7777777777777778, \"#fb9f3a\"], [0.8888888888888888, \"#fdca26\"], [1.0, \"#f0f921\"]], \"type\": \"contour\"}], \"contourcarpet\": [{\"colorbar\": {\"outlinewidth\": 0, \"ticks\": \"\"}, \"type\": \"contourcarpet\"}], \"heatmap\": [{\"colorbar\": {\"outlinewidth\": 0, \"ticks\": \"\"}, \"colorscale\": [[0.0, \"#0d0887\"], [0.1111111111111111, \"#46039f\"], [0.2222222222222222, \"#7201a8\"], [0.3333333333333333, \"#9c179e\"], [0.4444444444444444, \"#bd3786\"], [0.5555555555555556, \"#d8576b\"], [0.6666666666666666, \"#ed7953\"], [0.7777777777777778, \"#fb9f3a\"], [0.8888888888888888, \"#fdca26\"], [1.0, \"#f0f921\"]], \"type\": \"heatmap\"}], \"heatmapgl\": [{\"colorbar\": {\"outlinewidth\": 0, \"ticks\": \"\"}, \"colorscale\": [[0.0, \"#0d0887\"], [0.1111111111111111, \"#46039f\"], [0.2222222222222222, \"#7201a8\"], [0.3333333333333333, \"#9c179e\"], [0.4444444444444444, \"#bd3786\"], [0.5555555555555556, \"#d8576b\"], [0.6666666666666666, \"#ed7953\"], [0.7777777777777778, \"#fb9f3a\"], [0.8888888888888888, \"#fdca26\"], [1.0, \"#f0f921\"]], \"type\": \"heatmapgl\"}], \"histogram\": [{\"marker\": {\"colorbar\": {\"outlinewidth\": 0, \"ticks\": \"\"}}, \"type\": \"histogram\"}], \"histogram2d\": [{\"colorbar\": {\"outlinewidth\": 0, \"ticks\": \"\"}, \"colorscale\": [[0.0, \"#0d0887\"], [0.1111111111111111, \"#46039f\"], [0.2222222222222222, \"#7201a8\"], [0.3333333333333333, \"#9c179e\"], [0.4444444444444444, \"#bd3786\"], [0.5555555555555556, \"#d8576b\"], [0.6666666666666666, \"#ed7953\"], [0.7777777777777778, \"#fb9f3a\"], [0.8888888888888888, \"#fdca26\"], [1.0, \"#f0f921\"]], \"type\": \"histogram2d\"}], \"histogram2dcontour\": [{\"colorbar\": {\"outlinewidth\": 0, \"ticks\": \"\"}, \"colorscale\": [[0.0, \"#0d0887\"], [0.1111111111111111, \"#46039f\"], [0.2222222222222222, \"#7201a8\"], [0.3333333333333333, \"#9c179e\"], [0.4444444444444444, \"#bd3786\"], [0.5555555555555556, \"#d8576b\"], [0.6666666666666666, \"#ed7953\"], [0.7777777777777778, \"#fb9f3a\"], [0.8888888888888888, \"#fdca26\"], [1.0, \"#f0f921\"]], \"type\": \"histogram2dcontour\"}], \"mesh3d\": [{\"colorbar\": {\"outlinewidth\": 0, \"ticks\": \"\"}, \"type\": \"mesh3d\"}], \"parcoords\": [{\"line\": {\"colorbar\": {\"outlinewidth\": 0, \"ticks\": \"\"}}, \"type\": \"parcoords\"}], \"pie\": [{\"automargin\": true, \"type\": \"pie\"}], \"scatter\": [{\"marker\": {\"colorbar\": {\"outlinewidth\": 0, \"ticks\": \"\"}}, \"type\": \"scatter\"}], \"scatter3d\": [{\"line\": {\"colorbar\": {\"outlinewidth\": 0, \"ticks\": \"\"}}, \"marker\": {\"colorbar\": {\"outlinewidth\": 0, \"ticks\": \"\"}}, \"type\": \"scatter3d\"}], \"scattercarpet\": [{\"marker\": {\"colorbar\": {\"outlinewidth\": 0, \"ticks\": \"\"}}, \"type\": \"scattercarpet\"}], \"scattergeo\": [{\"marker\": {\"colorbar\": {\"outlinewidth\": 0, \"ticks\": \"\"}}, \"type\": \"scattergeo\"}], \"scattergl\": [{\"marker\": {\"colorbar\": {\"outlinewidth\": 0, \"ticks\": \"\"}}, \"type\": \"scattergl\"}], \"scattermapbox\": [{\"marker\": {\"colorbar\": {\"outlinewidth\": 0, \"ticks\": \"\"}}, \"type\": \"scattermapbox\"}], \"scatterpolar\": [{\"marker\": {\"colorbar\": {\"outlinewidth\": 0, \"ticks\": \"\"}}, \"type\": \"scatterpolar\"}], \"scatterpolargl\": [{\"marker\": {\"colorbar\": {\"outlinewidth\": 0, \"ticks\": \"\"}}, \"type\": \"scatterpolargl\"}], \"scatterternary\": [{\"marker\": {\"colorbar\": {\"outlinewidth\": 0, \"ticks\": \"\"}}, \"type\": \"scatterternary\"}], \"surface\": [{\"colorbar\": {\"outlinewidth\": 0, \"ticks\": \"\"}, \"colorscale\": [[0.0, \"#0d0887\"], [0.1111111111111111, \"#46039f\"], [0.2222222222222222, \"#7201a8\"], [0.3333333333333333, \"#9c179e\"], [0.4444444444444444, \"#bd3786\"], [0.5555555555555556, \"#d8576b\"], [0.6666666666666666, \"#ed7953\"], [0.7777777777777778, \"#fb9f3a\"], [0.8888888888888888, \"#fdca26\"], [1.0, \"#f0f921\"]], \"type\": \"surface\"}], \"table\": [{\"cells\": {\"fill\": {\"color\": \"#EBF0F8\"}, \"line\": {\"color\": \"white\"}}, \"header\": {\"fill\": {\"color\": \"#C8D4E3\"}, \"line\": {\"color\": \"white\"}}, \"type\": \"table\"}]}, \"layout\": {\"annotationdefaults\": {\"arrowcolor\": \"#2a3f5f\", \"arrowhead\": 0, \"arrowwidth\": 1}, \"coloraxis\": {\"colorbar\": {\"outlinewidth\": 0, \"ticks\": \"\"}}, \"colorscale\": {\"diverging\": [[0, \"#8e0152\"], [0.1, \"#c51b7d\"], [0.2, \"#de77ae\"], [0.3, \"#f1b6da\"], [0.4, \"#fde0ef\"], [0.5, \"#f7f7f7\"], [0.6, \"#e6f5d0\"], [0.7, \"#b8e186\"], [0.8, \"#7fbc41\"], [0.9, \"#4d9221\"], [1, \"#276419\"]], \"sequential\": [[0.0, \"#0d0887\"], [0.1111111111111111, \"#46039f\"], [0.2222222222222222, \"#7201a8\"], [0.3333333333333333, \"#9c179e\"], [0.4444444444444444, \"#bd3786\"], [0.5555555555555556, \"#d8576b\"], [0.6666666666666666, \"#ed7953\"], [0.7777777777777778, \"#fb9f3a\"], [0.8888888888888888, \"#fdca26\"], [1.0, \"#f0f921\"]], \"sequentialminus\": [[0.0, \"#0d0887\"], [0.1111111111111111, \"#46039f\"], [0.2222222222222222, \"#7201a8\"], [0.3333333333333333, \"#9c179e\"], [0.4444444444444444, \"#bd3786\"], [0.5555555555555556, \"#d8576b\"], [0.6666666666666666, \"#ed7953\"], [0.7777777777777778, \"#fb9f3a\"], [0.8888888888888888, \"#fdca26\"], [1.0, \"#f0f921\"]]}, \"colorway\": [\"#636efa\", \"#EF553B\", \"#00cc96\", \"#ab63fa\", \"#FFA15A\", \"#19d3f3\", \"#FF6692\", \"#B6E880\", \"#FF97FF\", \"#FECB52\"], \"font\": {\"color\": \"#2a3f5f\"}, \"geo\": {\"bgcolor\": \"white\", \"lakecolor\": \"white\", \"landcolor\": \"#E5ECF6\", \"showlakes\": true, \"showland\": true, \"subunitcolor\": \"white\"}, \"hoverlabel\": {\"align\": \"left\"}, \"hovermode\": \"closest\", \"mapbox\": {\"style\": \"light\"}, \"paper_bgcolor\": \"white\", \"plot_bgcolor\": \"#E5ECF6\", \"polar\": {\"angularaxis\": {\"gridcolor\": \"white\", \"linecolor\": \"white\", \"ticks\": \"\"}, \"bgcolor\": \"#E5ECF6\", \"radialaxis\": {\"gridcolor\": \"white\", \"linecolor\": \"white\", \"ticks\": \"\"}}, \"scene\": {\"xaxis\": {\"backgroundcolor\": \"#E5ECF6\", \"gridcolor\": \"white\", \"gridwidth\": 2, \"linecolor\": \"white\", \"showbackground\": true, \"ticks\": \"\", \"zerolinecolor\": \"white\"}, \"yaxis\": {\"backgroundcolor\": \"#E5ECF6\", \"gridcolor\": \"white\", \"gridwidth\": 2, \"linecolor\": \"white\", \"showbackground\": true, \"ticks\": \"\", \"zerolinecolor\": \"white\"}, \"zaxis\": {\"backgroundcolor\": \"#E5ECF6\", \"gridcolor\": \"white\", \"gridwidth\": 2, \"linecolor\": \"white\", \"showbackground\": true, \"ticks\": \"\", \"zerolinecolor\": \"white\"}}, \"shapedefaults\": {\"line\": {\"color\": \"#2a3f5f\"}}, \"ternary\": {\"aaxis\": {\"gridcolor\": \"white\", \"linecolor\": \"white\", \"ticks\": \"\"}, \"baxis\": {\"gridcolor\": \"white\", \"linecolor\": \"white\", \"ticks\": \"\"}, \"bgcolor\": \"#E5ECF6\", \"caxis\": {\"gridcolor\": \"white\", \"linecolor\": \"white\", \"ticks\": \"\"}}, \"title\": {\"x\": 0.05}, \"xaxis\": {\"automargin\": true, \"gridcolor\": \"white\", \"linecolor\": \"white\", \"ticks\": \"\", \"title\": {\"standoff\": 15}, \"zerolinecolor\": \"white\", \"zerolinewidth\": 2}, \"yaxis\": {\"automargin\": true, \"gridcolor\": \"white\", \"linecolor\": \"white\", \"ticks\": \"\", \"title\": {\"standoff\": 15}, \"zerolinecolor\": \"white\", \"zerolinewidth\": 2}}}, \"title\": {\"text\": \"Output graph for test\"}, \"xaxis\": {\"anchor\": \"y\", \"categoryorder\": \"total ascending\", \"domain\": [0.0, 1.0], \"title\": {\"text\": \"value\"}}, \"yaxis\": {\"anchor\": \"x\", \"categoryorder\": \"total ascending\", \"domain\": [0.0, 1.0], \"dtick\": 1, \"title\": {\"text\": \"PARTNER\"}}},\n",
       "                        {\"responsive\": true}\n",
       "                    ).then(function(){\n",
       "                            \n",
       "var gd = document.getElementById('3a4ee289-02c6-4d1a-a188-dc4f446b0e11');\n",
       "var x = new MutationObserver(function (mutations, observer) {{\n",
       "        var display = window.getComputedStyle(gd).display;\n",
       "        if (!display || display === 'none') {{\n",
       "            console.log([gd, 'removed!']);\n",
       "            Plotly.purge(gd);\n",
       "            observer.disconnect();\n",
       "        }}\n",
       "}});\n",
       "\n",
       "// Listen for the removal of the full notebook cells\n",
       "var notebookContainer = gd.closest('#notebook-container');\n",
       "if (notebookContainer) {{\n",
       "    x.observe(notebookContainer, {childList: true});\n",
       "}}\n",
       "\n",
       "// Listen for the clearing of the current output cell\n",
       "var outputEl = gd.closest('.output');\n",
       "if (outputEl) {{\n",
       "    x.observe(outputEl, {childList: true});\n",
       "}}\n",
       "\n",
       "                        })\n",
       "                };\n",
       "                });\n",
       "            </script>\n",
       "        </div>"
      ]
     },
     "metadata": {},
     "output_type": "display_data"
    }
   ],
   "source": [
    "total_fig = px.bar(total_score_df,\n",
    "                x=['geo_score', 'needs_score', 'stage_score', 'challenge_score', 'tech_score'], \n",
    "                y=\"Org_y\",\n",
    "                title = \"Output graph for test\",\n",
    "                labels = {'Org_y':'PARTNER',\n",
    "                           },\n",
    "                hover_data=[\"total_score\"]            \n",
    "                )\n",
    "\n",
    "total_fig.update_xaxes(categoryorder='total ascending')\n",
    "total_fig.update_layout(yaxis={'categoryorder':'total ascending', 'dtick':1}, height=1200)"
   ]
  },
  {
   "cell_type": "code",
   "execution_count": null,
   "id": "sustained-occupation",
   "metadata": {},
   "outputs": [],
   "source": []
  },
  {
   "cell_type": "code",
   "execution_count": null,
   "id": "endless-george",
   "metadata": {},
   "outputs": [],
   "source": []
  }
 ],
 "metadata": {
  "kernelspec": {
   "display_name": "Python 3",
   "language": "python",
   "name": "python3"
  },
  "language_info": {
   "codemirror_mode": {
    "name": "ipython",
    "version": 3
   },
   "file_extension": ".py",
   "mimetype": "text/x-python",
   "name": "python",
   "nbconvert_exporter": "python",
   "pygments_lexer": "ipython3",
   "version": "3.6.9"
  }
 },
 "nbformat": 4,
 "nbformat_minor": 5
}
